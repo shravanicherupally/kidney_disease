{
 "cells": [
  {
   "cell_type": "code",
   "execution_count": 28,
   "id": "018f2237",
   "metadata": {},
   "outputs": [],
   "source": [
    "# --- Cell 1: Import Required Libraries ---\n",
    "import pandas as pd\n",
    "import numpy as np\n",
    "from sklearn.preprocessing import StandardScaler"
   ]
  },
  {
   "cell_type": "code",
   "execution_count": 29,
   "id": "fc8abb90",
   "metadata": {},
   "outputs": [
    {
     "name": "stdout",
     "output_type": "stream",
     "text": [
      "✅ Raw dataset loaded. Shape: (3000, 25)\n"
     ]
    }
   ],
   "source": [
    "# --- Cell 2: Load Dataset ---\n",
    "df = pd.read_csv(\"../Data/your_dataset.csv\")\n",
    "print(\"✅ Raw dataset loaded. Shape:\", df.shape)"
   ]
  },
  {
   "cell_type": "code",
   "execution_count": 30,
   "id": "f8abe9ca",
   "metadata": {},
   "outputs": [
    {
     "name": "stdout",
     "output_type": "stream",
     "text": [
      "✅ Duplicates removed. Shape: (3000, 25)\n"
     ]
    }
   ],
   "source": [
    "# --- Cell 3: Drop Duplicates ---\n",
    "df.drop_duplicates(inplace=True)\n",
    "print(\"✅ Duplicates removed. Shape:\", df.shape)"
   ]
  },
  {
   "cell_type": "code",
   "execution_count": 31,
   "id": "40176ba5",
   "metadata": {},
   "outputs": [
    {
     "name": "stdout",
     "output_type": "stream",
     "text": [
      "✅ Missing indicators replaced with NaN.\n"
     ]
    }
   ],
   "source": [
    "# --- Cell 4: Replace Missing Value Indicators ---\n",
    "df.replace(\"?\", np.nan, inplace=True)\n",
    "print(\"✅ Missing indicators replaced with NaN.\")"
   ]
  },
  {
   "cell_type": "code",
   "execution_count": 32,
   "id": "7f4c6a6e",
   "metadata": {},
   "outputs": [
    {
     "name": "stdout",
     "output_type": "stream",
     "text": [
      "✅ Numeric conversion completed.\n"
     ]
    }
   ],
   "source": [
    "# --- Cell 5: Convert Columns to Numeric ---\n",
    "numeric_cols = ['age', 'bp', 'sg', 'al', 'su', 'bgr', 'bu', 'sc', 'sod', 'pot',\n",
    "                'hemo', 'pcv', 'wc', 'rc']\n",
    "for col in numeric_cols:\n",
    "    df[col] = pd.to_numeric(df[col], errors='coerce')\n",
    "print(\"✅ Numeric conversion completed.\")"
   ]
  },
  {
   "cell_type": "code",
   "execution_count": 33,
   "id": "6ed835b1",
   "metadata": {},
   "outputs": [
    {
     "name": "stdout",
     "output_type": "stream",
     "text": [
      "✅ Binary columns encoded.\n"
     ]
    }
   ],
   "source": [
    "# --- Cell 6: Encode Categorical/Binary Columns ---\n",
    "binary_cols = ['rbc', 'pc', 'pcc', 'ba', 'htn', 'dm', 'cad',\n",
    "               'appet', 'pe', 'ane']\n",
    "for col in binary_cols:\n",
    "    df[col] = df[col].map({\n",
    "        'normal': 0, 'abnormal': 1,\n",
    "        'not present': 0, 'present': 1,\n",
    "        'no': 0, 'yes': 1,\n",
    "        'good': 0, 'poor': 1\n",
    "    })\n",
    "print(\"✅ Binary columns encoded.\")"
   ]
  },
  {
   "cell_type": "code",
   "execution_count": 34,
   "id": "55f10f36",
   "metadata": {},
   "outputs": [
    {
     "name": "stdout",
     "output_type": "stream",
     "text": [
      "✅ Target encoded.\n"
     ]
    }
   ],
   "source": [
    "# --- Cell 7: Encode Target Column ---\n",
    "df['classification'] = df['classification'].map({'ckd': 1, 'notckd': 0})\n",
    "print(\"✅ Target encoded.\")"
   ]
  },
  {
   "cell_type": "code",
   "execution_count": 35,
   "id": "18164d74",
   "metadata": {},
   "outputs": [
    {
     "name": "stdout",
     "output_type": "stream",
     "text": [
      "✅ Dropped rows with missing target. Shape: (3000, 25)\n"
     ]
    }
   ],
   "source": [
    "# --- Cell 8: Drop Rows with Missing Target ---\n",
    "df.dropna(subset=['classification'], inplace=True)\n",
    "print(\"✅ Dropped rows with missing target. Shape:\", df.shape)"
   ]
  },
  {
   "cell_type": "code",
   "execution_count": 36,
   "id": "96e6cfb1",
   "metadata": {},
   "outputs": [
    {
     "name": "stdout",
     "output_type": "stream",
     "text": [
      "✅ Missing values filled.\n"
     ]
    }
   ],
   "source": [
    "# --- Cell 9: Fill Missing Values ---\n",
    "df[numeric_cols] = df[numeric_cols].fillna(df[numeric_cols].median())\n",
    "df[binary_cols] = df[binary_cols].fillna(df[binary_cols].mode().iloc[0])\n",
    "print(\"✅ Missing values filled.\")"
   ]
  },
  {
   "cell_type": "code",
   "execution_count": 37,
   "id": "e2d25087",
   "metadata": {},
   "outputs": [
    {
     "name": "stdout",
     "output_type": "stream",
     "text": [
      "✅ Numeric features scaled.\n"
     ]
    }
   ],
   "source": [
    "# --- Cell 10: Feature Scaling ---\n",
    "scaler = StandardScaler()\n",
    "df[numeric_cols] = scaler.fit_transform(df[numeric_cols])\n",
    "print(\"✅ Numeric features scaled.\")"
   ]
  },
  {
   "cell_type": "code",
   "execution_count": 38,
   "id": "f3fa0333",
   "metadata": {},
   "outputs": [
    {
     "name": "stdout",
     "output_type": "stream",
     "text": [
      "✅ Final selected columns: ['age', 'sc', 'hemo', 'al', 'bp', 'sg', 'classification']\n"
     ]
    }
   ],
   "source": [
    "# --- Cell 11: Select Final Columns ---\n",
    "final_cols = ['age', 'sc', 'hemo', 'al', 'bp', 'sg', 'classification']\n",
    "df = df[final_cols]\n",
    "print(\"✅ Final selected columns:\", final_cols)"
   ]
  },
  {
   "cell_type": "code",
   "execution_count": 39,
   "id": "91d1efd4",
   "metadata": {},
   "outputs": [
    {
     "name": "stdout",
     "output_type": "stream",
     "text": [
      "✅ Cleaned dataset saved to ../Data/cleaned_ckd_data.csv\n"
     ]
    }
   ],
   "source": [
    "# --- Cell 12: Save Cleaned Dataset ---\n",
    "df.to_csv(\"../Data/cleaned_ckd_data.csv\", index=False)\n",
    "print(\"✅ Cleaned dataset saved to ../Data/cleaned_ckd_data.csv\")"
   ]
  },
  {
   "cell_type": "code",
   "execution_count": 40,
   "id": "ca904346",
   "metadata": {},
   "outputs": [
    {
     "name": "stdout",
     "output_type": "stream",
     "text": [
      "✅ Scaler saved to ../App/model/scaler.pkl\n"
     ]
    }
   ],
   "source": [
    "# --- Cell 13: Save Scaler for Flask App ---\n",
    "import joblib\n",
    "joblib.dump(scaler, \"../App/model/scaler.pkl\")\n",
    "print(\"✅ Scaler saved to ../App/model/scaler.pkl\")\n"
   ]
  }
 ],
 "metadata": {
  "kernelspec": {
   "display_name": "project_2",
   "language": "python",
   "name": "python3"
  },
  "language_info": {
   "codemirror_mode": {
    "name": "ipython",
    "version": 3
   },
   "file_extension": ".py",
   "mimetype": "text/x-python",
   "name": "python",
   "nbconvert_exporter": "python",
   "pygments_lexer": "ipython3",
   "version": "3.10.18"
  }
 },
 "nbformat": 4,
 "nbformat_minor": 5
}
