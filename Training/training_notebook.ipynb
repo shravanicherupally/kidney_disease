{
 "cells": [
  {
   "cell_type": "code",
   "execution_count": 43,
   "id": "780339f5",
   "metadata": {},
   "outputs": [],
   "source": [
    "# --- Cell 1: Import Libraries ---\n",
    "import pandas as pd\n",
    "import numpy as np\n",
    "from sklearn.model_selection import train_test_split\n",
    "from sklearn.preprocessing import StandardScaler\n",
    "from sklearn.linear_model import LogisticRegression\n",
    "from sklearn.metrics import classification_report\n",
    "import joblib"
   ]
  },
  {
   "cell_type": "code",
   "execution_count": 44,
   "id": "6cb7db7e",
   "metadata": {},
   "outputs": [
    {
     "name": "stdout",
     "output_type": "stream",
     "text": [
      "✅ Cleaned dataset loaded. Shape: (3000, 7)\n"
     ]
    }
   ],
   "source": [
    "# --- Cell 2: Load Preprocessed Data ---\n",
    "df = pd.read_csv(\"../Data/imp_6_features.csv\")\n",
    "print(\"✅ Cleaned dataset loaded. Shape:\", df.shape)"
   ]
  },
  {
   "cell_type": "code",
   "execution_count": 45,
   "id": "ee6a9bb2",
   "metadata": {},
   "outputs": [
    {
     "name": "stdout",
     "output_type": "stream",
     "text": [
      "✅ Selected features: ['age', 'sc', 'hemo', 'al', 'bp', 'sg']\n"
     ]
    }
   ],
   "source": [
    "# --- Cell 3: Select Final Features ---\n",
    "final_features = ['age', 'sc', 'hemo', 'al', 'bp', 'sg']\n",
    "X = df[final_features]\n",
    "y = df['classification']\n",
    "print(\"✅ Selected features:\", final_features)"
   ]
  },
  {
   "cell_type": "code",
   "execution_count": 46,
   "id": "642d472b",
   "metadata": {},
   "outputs": [
    {
     "name": "stdout",
     "output_type": "stream",
     "text": [
      "✅ Data split done. Train shape: (2400, 6) Test shape: (600, 6)\n"
     ]
    }
   ],
   "source": [
    "# --- Cell 4: Train-Test Split ---\n",
    "X_train, X_test, y_train, y_test = train_test_split(\n",
    "    X, y, test_size=0.2, random_state=42\n",
    ")\n",
    "print(\"✅ Data split done. Train shape:\", X_train.shape, \"Test shape:\", X_test.shape)\n"
   ]
  },
  {
   "cell_type": "code",
   "execution_count": 47,
   "id": "27bc4c43",
   "metadata": {},
   "outputs": [
    {
     "name": "stdout",
     "output_type": "stream",
     "text": [
      "✅ Features scaled.\n"
     ]
    }
   ],
   "source": [
    "# --- Cell 5: Feature Scaling ---\n",
    "scaler = StandardScaler()\n",
    "X_train_scaled = scaler.fit_transform(X_train)\n",
    "X_test_scaled = scaler.transform(X_test)\n",
    "print(\"✅ Features scaled.\")\n"
   ]
  },
  {
   "cell_type": "code",
   "execution_count": 48,
   "id": "bb5c62e7",
   "metadata": {},
   "outputs": [
    {
     "name": "stdout",
     "output_type": "stream",
     "text": [
      "✅ Logistic Regression model trained.\n"
     ]
    }
   ],
   "source": [
    "# --- Cell 6: Train Logistic Regression ---\n",
    "model = LogisticRegression()\n",
    "model.fit(X_train_scaled, y_train)\n",
    "print(\"✅ Logistic Regression model trained.\")"
   ]
  },
  {
   "cell_type": "code",
   "execution_count": 49,
   "id": "66965da4",
   "metadata": {},
   "outputs": [
    {
     "name": "stdout",
     "output_type": "stream",
     "text": [
      "\n",
      "📊 Classification Report:\n",
      "\n",
      "              precision    recall  f1-score   support\n",
      "\n",
      "         ckd       1.00      1.00      1.00       328\n",
      "      notckd       1.00      1.00      1.00       272\n",
      "\n",
      "    accuracy                           1.00       600\n",
      "   macro avg       1.00      1.00      1.00       600\n",
      "weighted avg       1.00      1.00      1.00       600\n",
      "\n"
     ]
    }
   ],
   "source": [
    "# --- Cell 7: Evaluate Model ---\n",
    "y_pred = model.predict(X_test_scaled)\n",
    "print(\"\\n📊 Classification Report:\\n\")\n",
    "print(classification_report(y_test, y_pred))"
   ]
  },
  {
   "cell_type": "code",
   "execution_count": 50,
   "id": "37775f01",
   "metadata": {},
   "outputs": [
    {
     "name": "stdout",
     "output_type": "stream",
     "text": [
      "✅ Model and scaler saved to ../App/model/\n"
     ]
    }
   ],
   "source": [
    "# --- Cell 8: Save Model and Scaler ---\n",
    "joblib.dump(model, \"../App/model/model.pkl\")\n",
    "joblib.dump(scaler, \"../App/model/scaler.pkl\")\n",
    "print(\"✅ Model and scaler saved to ../App/model/\")"
   ]
  }
 ],
 "metadata": {
  "kernelspec": {
   "display_name": "project_2",
   "language": "python",
   "name": "python3"
  },
  "language_info": {
   "codemirror_mode": {
    "name": "ipython",
    "version": 3
   },
   "file_extension": ".py",
   "mimetype": "text/x-python",
   "name": "python",
   "nbconvert_exporter": "python",
   "pygments_lexer": "ipython3",
   "version": "3.10.18"
  }
 },
 "nbformat": 4,
 "nbformat_minor": 5
}
